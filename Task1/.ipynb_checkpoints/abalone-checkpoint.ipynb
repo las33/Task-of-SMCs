{
 "cells": [
  {
   "cell_type": "code",
   "execution_count": 1,
   "metadata": {},
   "outputs": [],
   "source": [
    "import pandas  as pd\n",
    "import numpy as np\n",
    "import matplotlib.pyplot as plt\n",
    "import sklearn\n",
    "from sklearn.model_selection import KFold, StratifiedKFold\n",
    "from sklearn.ensemble import BaggingClassifier, AdaBoostClassifier\n",
    "from sklearn.linear_model import Perceptron\n",
    "from deslib.static import Oracle\n",
    "from sklearn.cluster import KMeans\n",
    "from sklearn.preprocessing import StandardScaler\n",
    "from sgh import SGH"
   ]
  },
  {
   "cell_type": "code",
   "execution_count": 2,
   "metadata": {},
   "outputs": [],
   "source": [
    "dataset_dir = 'datasets/'\n",
    "dataset = 'abalone'\n",
    "df = pd.read_csv(dataset_dir + dataset+'.csv', sep=',')\n",
    "df.Sex.replace({\"M\": 1, \"F\": 2, \"I\": 3}, inplace=True)\n",
    "\n",
    "df['Rings'] += -3\n",
    "df.Rings.replace({-2: 0, -1: 0}, inplace=True)\n",
    "df.Rings.replace({21: 20, 22: 20,23: 20, 24: 20,25: 20, 26: 20}, inplace=True)"
   ]
  },
  {
   "cell_type": "code",
   "execution_count": 3,
   "metadata": {},
   "outputs": [
    {
     "data": {
      "text/plain": [
       "array([12,  4,  6,  7,  5, 17, 13, 16, 11,  8,  9, 15, 10,  2,  1,  3, 18,\n",
       "       14, 19,  0, 20], dtype=int64)"
      ]
     },
     "execution_count": 3,
     "metadata": {},
     "output_type": "execute_result"
    }
   ],
   "source": [
    "df.Rings.unique() "
   ]
  },
  {
   "cell_type": "code",
   "execution_count": 4,
   "metadata": {
    "scrolled": true
   },
   "outputs": [
    {
     "data": {
      "text/plain": [
       "Text(0, 0.5, 'Frequency')"
      ]
     },
     "execution_count": 4,
     "metadata": {},
     "output_type": "execute_result"
    },
    {
     "data": {
      "image/png": "[encoded data removed]",
      "text/plain": [
       "<Figure size 432x288 with 1 Axes>"
      ]
     },
     "metadata": {
      "needs_background": "light"
     },
     "output_type": "display_data"
    }
   ],
   "source": [
    "count_classes = pd.value_counts(df['Rings'], sort = True).sort_index()\n",
    "count_classes.plot(kind = 'bar')\n",
    "plt.title(\"Abalone histogram\")\n",
    "plt.xlabel(\"Class\")\n",
    "plt.ylabel(\"Frequency\")"
   ]
  },
  {
   "cell_type": "code",
   "execution_count": 5,
   "metadata": {},
   "outputs": [],
   "source": [
    "\n",
    "y = df['Rings']\n",
    "X = df.drop(labels=['Rings'], axis=1)"
   ]
  },
  {
   "cell_type": "code",
   "execution_count": 6,
   "metadata": {},
   "outputs": [],
   "source": [
    "def oracle_for_random_subspace(meta_model, X_test, y_test):\n",
    "    base_models = meta_model.estimators_\n",
    "    base_models_feats = meta_model.estimators_features_\n",
    "\n",
    "    base_models_preds = []\n",
    "    for i in range(len(base_models)):\n",
    "        X_test_subspace = X_test.iloc[:,base_models_feats[i]] #selecting only the columns used for the ith base model.\n",
    "        y_pred = base_models[i].predict(X_test_subspace)\n",
    "        base_models_preds.append(y_pred)\n",
    "\n",
    "    oracle_hits = []\n",
    "    for i in range(len(y_test)):\n",
    "        oracle_hit = 0\n",
    "        for j in range(len(base_models_preds)):\n",
    "            if base_models_preds[j][i] == y_test[i]:\n",
    "                oracle_hit = 1\n",
    "                break\n",
    "        oracle_hits.append(oracle_hit)\n",
    "\n",
    "    oracle_score = np.sum(oracle_hits)/len(oracle_hits)\n",
    "    #print('Oracle score = ', oracle_score)\n",
    "    return oracle_score"
   ]
  },
  {
   "cell_type": "code",
   "execution_count": 7,
   "metadata": {},
   "outputs": [],
   "source": [
    "from dataclasses import dataclass\n",
    "import random\n",
    "from sklearn.metrics.pairwise import euclidean_distances\n",
    "import collections\n",
    "from collections import Counter\n",
    "\n",
    "class dumb_base:\n",
    "    classe: int   \n",
    "        \n",
    "    def __init__(self, value):\n",
    "        self.classe = value\n",
    "        \n",
    "    \n",
    "    def predict(self,X_test):\n",
    "        saida = []\n",
    "        for index in range(len(X_test)):\n",
    "            saida.append(self.classe)\n",
    "        \n",
    "        return saida\n",
    "\n",
    "\n",
    "class clf_base_r:\n",
    "    clf_1: Perceptron\n",
    "    clf_2: Perceptron\n",
    "    h: KMeans   \n",
    "        \n",
    "    def __init__(self):\n",
    "        self.clf_1 = Perceptron()\n",
    "        self.clf_2 = Perceptron()\n",
    "        self.h = KMeans\n",
    "        \n",
    "    \n",
    "    def predict(self,X_test):\n",
    "        saida = []\n",
    "        for index, row in X_test.iterrows():\n",
    "            dim = self.h.predict([row])[0]\n",
    "            #print('kmeasn dim',dim)\n",
    "            if(dim == 0):\n",
    "                saida.append(self.clf_1.predict([row])[0])\n",
    "            else:\n",
    "                saida.append(self.clf_2.predict([row])[0])\n",
    "        \n",
    "        return saida\n",
    "        \n",
    "    def fit(self,X_train, y_train):\n",
    "        \n",
    "        self.h = KMeans(n_clusters=2, n_init=1, max_iter=1).fit(X_train)\n",
    "         \n",
    "        k_selection = self.h.predict(X_train)\n",
    "        \n",
    "        base1 =  []\n",
    "        y1 = []\n",
    "        \n",
    "        base2 =  []\n",
    "        y2 = []\n",
    "                \n",
    "        for index, d1 in enumerate(k_selection):\n",
    "            if(d1 == 0):\n",
    "                base1.append(X_train.iloc[index])\n",
    "                y1.append(y_train[index])\n",
    "            else:\n",
    "                base2.append(X_train.iloc[index])\n",
    "                y2.append(y_train[index])                \n",
    "        \n",
    "        base1 = pd.DataFrame(base1,columns=X_train.columns)\n",
    "        base2 = pd.DataFrame(base2,columns=X_train.columns)\n",
    "        if len(Counter(y1).keys()) >1:\n",
    "            self.clf_1.fit(base1,y1)\n",
    "        else:\n",
    "             self.clf_1 = dumb_base(y1[0])\n",
    "        if len(Counter(y2).keys()) >1:\n",
    "            self.clf_2.fit(base2,y2)\n",
    "        else:\n",
    "             self.clf_2 = dumb_base(y2[0])\n",
    "        \n",
    "        return self\n",
    "\n",
    "    \n",
    "class random_linear_oracle:\n",
    "    n_: int\n",
    "    pool_classifiers: []\n",
    "        \n",
    "        \n",
    "    def __init__(self, n_value=10):\n",
    "        self.n_ = n_value\n",
    "        self.pool_classifiers = []\n",
    "        \n",
    "        for x in range(self.n_):            \n",
    "            self.pool_classifiers.append(clf_base_r())\n",
    "    \n",
    "    def fit(self,X_train, y_train):\n",
    "        for x in range(self.n_): \n",
    "            self.pool_classifiers[x] = self.pool_classifiers[x].fit(X_train, y_train)\n",
    "        return self\n",
    "    \n",
    "    def predict(self,X_test):\n",
    "        saidas = []\n",
    "        for x in range(self.n_): \n",
    "            saidas.append(self.pool_classifiers[x].predict(X_test))                \n",
    "        \n",
    "        saidas_clfs = [list(x) for x in zip(*saidas)]\n",
    "        saida = []\n",
    "        for v in saidas_clfs:\n",
    "            occurence_count = Counter(v) \n",
    "            saida.append(occurence_count.most_common(1)[0][0])\n",
    "        \n",
    "\n",
    "        return saida\n",
    "    \n",
    "    def oracle(self,X_test, y_test):\n",
    "        saidas = []\n",
    "        for x in range(self.n_): \n",
    "            saidas.append(self.pool_classifiers[x].predict(X_test))                \n",
    "        \n",
    "        saidas_clfs = [list(x) for x in zip(*saidas)]\n",
    "        hits = 0\n",
    "        for index, v in enumerate(saidas_clfs):\n",
    "             if(y_test[index] in v):\n",
    "                hits = hits + 1\n",
    "        \n",
    "\n",
    "        return hits/len(y_test)"
   ]
  },
  {
   "cell_type": "code",
   "execution_count": 9,
   "metadata": {},
   "outputs": [],
   "source": [
    "def run_experiment():\n",
    "    n_estimators_list = [10,20,40,60,80,100]\n",
    "    kf = StratifiedKFold(n_splits=5, random_state=42, shuffle=True)\n",
    "\n",
    "    for qtd_estimators in  n_estimators_list:\n",
    "        print(qtd_estimators)\n",
    "        bagging_oracle  = []\n",
    "        adaboost_oracle = []\n",
    "        randomsubspace_oracle = [] \n",
    "        randomlinearoracle_oracle = []\n",
    "\n",
    "        for train_index, test_index in kf.split(X,y):\n",
    "\n",
    "            pool_bagging  = BaggingClassifier(base_estimator=Perceptron(),n_estimators=qtd_estimators, random_state=42)\n",
    "            pool_adaboost  = AdaBoostClassifier(base_estimator=Perceptron(),n_estimators=qtd_estimators, algorithm='SAMME', random_state=42)\n",
    "            pool_randomsubspace  = BaggingClassifier(base_estimator=Perceptron(),n_estimators=qtd_estimators,max_features=0.5,bootstrap=False, random_state=42)\n",
    "            pool_random_oracle = random_linear_oracle(n_value=qtd_estimators)\n",
    "\n",
    "\n",
    "            X_train, X_test = X.iloc[train_index], X.iloc[test_index]\n",
    "            y_train, y_test = y.iloc[train_index], y.iloc[test_index]\n",
    "\n",
    "            pool_bagging.fit(X_train,y_train)\n",
    "            pool_adaboost.fit(X_train,y_train)\n",
    "            pool_randomsubspace.fit(X_train,y_train) \n",
    "            pool_random_oracle.fit(X_train, y_train.values)\n",
    "\n",
    "\n",
    "            oracle_bagging = Oracle(pool_bagging).fit(X_train, y_train)           \n",
    "            bagging_oracle.append(oracle_bagging.score(X_test,y_test.values))\n",
    "\n",
    "\n",
    "            oracle_adaboost = Oracle(pool_adaboost).fit(X_train, y_train)         \n",
    "            adaboost_oracle.append(oracle_adaboost.score(X_test,y_test.values))\n",
    "\n",
    "            randomsubspace_oracle.append(oracle_for_random_subspace(pool_randomsubspace, X_test, y_test.values))\n",
    "\n",
    "            randomlinearoracle_oracle.append(pool_random_oracle.oracle(X_test, y_test.values))\n",
    "\n",
    "\n",
    "\n",
    "        models_score = [bagging_oracle,adaboost_oracle,randomsubspace_oracle, randomlinearoracle_oracle]\n",
    "\n",
    "        algoritmos = {'model': ['bagging_oracle','adaboost_oracle','randomsubspace_oracle','randomlinearoracle_oracle'],\n",
    "            'mean': np.mean(models_score, axis=1),\n",
    "            'std': np.std(models_score, axis=1)\n",
    "            }\n",
    "\n",
    "        df = pd.DataFrame(algoritmos, columns = ['model', 'mean', 'std'])\n",
    "\n",
    "\n",
    "        #print(df)\n",
    "        df.to_csv(dataset +'_model_score_'+str(qtd_estimators)+'_estimators', index=False) \n",
    "#run_experiment()    "
   ]
  },
  {
   "cell_type": "code",
   "execution_count": null,
   "metadata": {},
   "outputs": [],
   "source": [
    "def erros_count_class(y_predict,y_test):\n",
    "    classes_count = [0] * len(set(y_test))  \n",
    "    \n",
    "    for index, y in enumerate(y_predict):\n",
    "        if(y != y_test[index]):\n",
    "            classes_count[y_test[index]] += 1\n",
    "\n",
    "    return classes_count\n",
    "\n",
    "kf = StratifiedKFold(n_splits=5, random_state=42, shuffle=True)\n",
    "\n",
    "sgh_oracle  = []\n",
    "hyperplanes_count = [] \n",
    "erros_count = []\n",
    "\n",
    "for train_index, test_index in kf.split(X,y):\n",
    "    X_train, X_test = X.iloc[train_index], X.iloc[test_index]\n",
    "    y_train, y_test = y.iloc[train_index], y.iloc[test_index]\n",
    "        \n",
    "    pool_sgh = SGH()\n",
    "    pool_sgh.fit(X_train.values,y_train.values)    \n",
    "    oracle_sgh = Oracle(pool_sgh).fit(X_train, y_train) \n",
    "    \n",
    "    sgh_oracle.append(oracle_sgh.score(X_test,y_test.values))\n",
    "    hyperplanes_count.append(pool_sgh.hyperplanes)\n",
    "    erros_count.append(erros_count_class(oracle_sgh.predict(X_test,y_test.values),y_test.values))"
   ]
  },
  {
   "cell_type": "code",
   "execution_count": 11,
   "metadata": {},
   "outputs": [
    {
     "name": "stdout",
     "output_type": "stream",
     "text": [
      "mean_oracle: 0.9968873735782025\n",
      "std_oracle: 0.001221435554315956\n",
      "mean erros_count: [0.  0.  0.  0.  0.  0.  0.  0.  0.  0.4 0.4 0.  0.  0.2 0.6 0.  0.  0.2\n",
      " 0.2 0.2 0.4]\n",
      "std erros_count: [0.         0.         0.         0.         0.         0.\n",
      " 0.         0.         0.         0.48989795 0.8        0.\n",
      " 0.         0.4        0.8        0.         0.         0.4\n",
      " 0.4        0.4        0.8       ]\n",
      "hyperplanes mean [2.2 3.2 2.8 3.2 3.8 4.4 5.  4.6 5.  5.  4.8 4.8 4.6 4.6 4.  3.6 4.2 3.2\n",
      " 3.  3.2 2.8]\n",
      "hyperplanes std [0.4        0.9797959  0.74833148 0.9797959  0.74833148 0.48989795\n",
      " 1.26491106 0.48989795 0.63245553 0.63245553 0.74833148 0.74833148\n",
      " 0.48989795 0.48989795 0.63245553 0.48989795 0.4        0.4\n",
      " 0.         0.4        0.4       ]\n"
     ]
    }
   ],
   "source": [
    "print(\"mean_oracle:\", np.mean(sgh_oracle ))\n",
    "print(\"std_oracle:\", np.std(sgh_oracle ))\n",
    "\n",
    "print(\"mean erros_count:\", np.mean(erros_count, axis=0))\n",
    "print(\"std erros_count:\", np.std(erros_count, axis=0))\n",
    "\n",
    "print(\"hyperplanes mean\", np.mean(hyperplanes_count, axis=0))\n",
    "print(\"hyperplanes std\", np.std(hyperplanes_count, axis=0))    \n",
    "    "
   ]
  }
 ],
 "metadata": {
  "kernelspec": {
   "display_name": "Python 3",
   "language": "python",
   "name": "python3"
  },
  "language_info": {
   "codemirror_mode": {
    "name": "ipython",
    "version": 3
   },
   "file_extension": ".py",
   "mimetype": "text/x-python",
   "name": "python",
   "nbconvert_exporter": "python",
   "pygments_lexer": "ipython3",
   "version": "3.8.3"
  }
 },
 "nbformat": 4,
 "nbformat_minor": 4
}
